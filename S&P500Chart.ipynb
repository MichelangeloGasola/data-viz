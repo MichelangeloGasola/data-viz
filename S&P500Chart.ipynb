{
 "cells": [
  {
   "cell_type": "code",
   "execution_count": 14,
   "metadata": {},
   "outputs": [
    {
     "name": "stdout",
     "output_type": "stream",
     "text": [
      "Requirement already satisfied: plotly in /Users/michelangelogasola/anaconda3/envs/vaa/lib/python3.12/site-packages (5.22.0)\n",
      "Requirement already satisfied: pandas in /Users/michelangelogasola/anaconda3/envs/vaa/lib/python3.12/site-packages (2.2.1)\n",
      "Requirement already satisfied: yfinance in /Users/michelangelogasola/anaconda3/envs/vaa/lib/python3.12/site-packages (0.2.40)\n",
      "Requirement already satisfied: tenacity>=6.2.0 in /Users/michelangelogasola/anaconda3/envs/vaa/lib/python3.12/site-packages (from plotly) (8.3.0)\n",
      "Requirement already satisfied: packaging in /Users/michelangelogasola/anaconda3/envs/vaa/lib/python3.12/site-packages (from plotly) (23.2)\n",
      "Requirement already satisfied: numpy<2,>=1.26.0 in /Users/michelangelogasola/anaconda3/envs/vaa/lib/python3.12/site-packages (from pandas) (1.26.4)\n",
      "Requirement already satisfied: python-dateutil>=2.8.2 in /Users/michelangelogasola/anaconda3/envs/vaa/lib/python3.12/site-packages (from pandas) (2.9.0)\n",
      "Requirement already satisfied: pytz>=2020.1 in /Users/michelangelogasola/anaconda3/envs/vaa/lib/python3.12/site-packages (from pandas) (2024.1)\n",
      "Requirement already satisfied: tzdata>=2022.7 in /Users/michelangelogasola/anaconda3/envs/vaa/lib/python3.12/site-packages (from pandas) (2024.1)\n",
      "Requirement already satisfied: requests>=2.31 in /Users/michelangelogasola/anaconda3/envs/vaa/lib/python3.12/site-packages (from yfinance) (2.31.0)\n",
      "Requirement already satisfied: multitasking>=0.0.7 in /Users/michelangelogasola/anaconda3/envs/vaa/lib/python3.12/site-packages (from yfinance) (0.0.11)\n",
      "Requirement already satisfied: lxml>=4.9.1 in /Users/michelangelogasola/anaconda3/envs/vaa/lib/python3.12/site-packages (from yfinance) (5.2.2)\n",
      "Requirement already satisfied: platformdirs>=2.0.0 in /Users/michelangelogasola/anaconda3/envs/vaa/lib/python3.12/site-packages (from yfinance) (4.2.0)\n",
      "Requirement already satisfied: frozendict>=2.3.4 in /Users/michelangelogasola/anaconda3/envs/vaa/lib/python3.12/site-packages (from yfinance) (2.4.4)\n",
      "Requirement already satisfied: peewee>=3.16.2 in /Users/michelangelogasola/anaconda3/envs/vaa/lib/python3.12/site-packages (from yfinance) (3.17.5)\n",
      "Requirement already satisfied: beautifulsoup4>=4.11.1 in /Users/michelangelogasola/anaconda3/envs/vaa/lib/python3.12/site-packages (from yfinance) (4.12.3)\n",
      "Requirement already satisfied: html5lib>=1.1 in /Users/michelangelogasola/anaconda3/envs/vaa/lib/python3.12/site-packages (from yfinance) (1.1)\n",
      "Requirement already satisfied: soupsieve>1.2 in /Users/michelangelogasola/anaconda3/envs/vaa/lib/python3.12/site-packages (from beautifulsoup4>=4.11.1->yfinance) (2.5)\n",
      "Requirement already satisfied: six>=1.9 in /Users/michelangelogasola/anaconda3/envs/vaa/lib/python3.12/site-packages (from html5lib>=1.1->yfinance) (1.16.0)\n",
      "Requirement already satisfied: webencodings in /Users/michelangelogasola/anaconda3/envs/vaa/lib/python3.12/site-packages (from html5lib>=1.1->yfinance) (0.5.1)\n",
      "Requirement already satisfied: charset-normalizer<4,>=2 in /Users/michelangelogasola/anaconda3/envs/vaa/lib/python3.12/site-packages (from requests>=2.31->yfinance) (3.3.2)\n",
      "Requirement already satisfied: idna<4,>=2.5 in /Users/michelangelogasola/anaconda3/envs/vaa/lib/python3.12/site-packages (from requests>=2.31->yfinance) (3.6)\n",
      "Requirement already satisfied: urllib3<3,>=1.21.1 in /Users/michelangelogasola/anaconda3/envs/vaa/lib/python3.12/site-packages (from requests>=2.31->yfinance) (2.2.1)\n",
      "Requirement already satisfied: certifi>=2017.4.17 in /Users/michelangelogasola/anaconda3/envs/vaa/lib/python3.12/site-packages (from requests>=2.31->yfinance) (2024.2.2)\n",
      "Note: you may need to restart the kernel to use updated packages.\n"
     ]
    }
   ],
   "source": [
    "pip install plotly pandas yfinance"
   ]
  },
  {
   "cell_type": "code",
   "execution_count": 16,
   "metadata": {},
   "outputs": [
    {
     "name": "stdout",
     "output_type": "stream",
     "text": [
      "Requirement already satisfied: pandas in /Users/michelangelogasola/anaconda3/envs/vaa/lib/python3.12/site-packages (2.2.1)\n",
      "Requirement already satisfied: numpy<2,>=1.26.0 in /Users/michelangelogasola/anaconda3/envs/vaa/lib/python3.12/site-packages (from pandas) (1.26.4)\n",
      "Requirement already satisfied: python-dateutil>=2.8.2 in /Users/michelangelogasola/anaconda3/envs/vaa/lib/python3.12/site-packages (from pandas) (2.9.0)\n",
      "Requirement already satisfied: pytz>=2020.1 in /Users/michelangelogasola/anaconda3/envs/vaa/lib/python3.12/site-packages (from pandas) (2024.1)\n",
      "Requirement already satisfied: tzdata>=2022.7 in /Users/michelangelogasola/anaconda3/envs/vaa/lib/python3.12/site-packages (from pandas) (2024.1)\n",
      "Requirement already satisfied: six>=1.5 in /Users/michelangelogasola/anaconda3/envs/vaa/lib/python3.12/site-packages (from python-dateutil>=2.8.2->pandas) (1.16.0)\n",
      "Requirement already satisfied: plotly in /Users/michelangelogasola/anaconda3/envs/vaa/lib/python3.12/site-packages (5.22.0)\n",
      "Requirement already satisfied: tenacity>=6.2.0 in /Users/michelangelogasola/anaconda3/envs/vaa/lib/python3.12/site-packages (from plotly) (8.3.0)\n",
      "Requirement already satisfied: packaging in /Users/michelangelogasola/anaconda3/envs/vaa/lib/python3.12/site-packages (from plotly) (23.2)\n",
      "Requirement already satisfied: yfinance in /Users/michelangelogasola/anaconda3/envs/vaa/lib/python3.12/site-packages (0.2.40)\n",
      "Requirement already satisfied: pandas>=1.3.0 in /Users/michelangelogasola/anaconda3/envs/vaa/lib/python3.12/site-packages (from yfinance) (2.2.1)\n",
      "Requirement already satisfied: numpy>=1.16.5 in /Users/michelangelogasola/anaconda3/envs/vaa/lib/python3.12/site-packages (from yfinance) (1.26.4)\n",
      "Requirement already satisfied: requests>=2.31 in /Users/michelangelogasola/anaconda3/envs/vaa/lib/python3.12/site-packages (from yfinance) (2.31.0)\n",
      "Requirement already satisfied: multitasking>=0.0.7 in /Users/michelangelogasola/anaconda3/envs/vaa/lib/python3.12/site-packages (from yfinance) (0.0.11)\n",
      "Requirement already satisfied: lxml>=4.9.1 in /Users/michelangelogasola/anaconda3/envs/vaa/lib/python3.12/site-packages (from yfinance) (5.2.2)\n",
      "Requirement already satisfied: platformdirs>=2.0.0 in /Users/michelangelogasola/anaconda3/envs/vaa/lib/python3.12/site-packages (from yfinance) (4.2.0)\n",
      "Requirement already satisfied: pytz>=2022.5 in /Users/michelangelogasola/anaconda3/envs/vaa/lib/python3.12/site-packages (from yfinance) (2024.1)\n",
      "Requirement already satisfied: frozendict>=2.3.4 in /Users/michelangelogasola/anaconda3/envs/vaa/lib/python3.12/site-packages (from yfinance) (2.4.4)\n",
      "Requirement already satisfied: peewee>=3.16.2 in /Users/michelangelogasola/anaconda3/envs/vaa/lib/python3.12/site-packages (from yfinance) (3.17.5)\n",
      "Requirement already satisfied: beautifulsoup4>=4.11.1 in /Users/michelangelogasola/anaconda3/envs/vaa/lib/python3.12/site-packages (from yfinance) (4.12.3)\n",
      "Requirement already satisfied: html5lib>=1.1 in /Users/michelangelogasola/anaconda3/envs/vaa/lib/python3.12/site-packages (from yfinance) (1.1)\n",
      "Requirement already satisfied: soupsieve>1.2 in /Users/michelangelogasola/anaconda3/envs/vaa/lib/python3.12/site-packages (from beautifulsoup4>=4.11.1->yfinance) (2.5)\n",
      "Requirement already satisfied: six>=1.9 in /Users/michelangelogasola/anaconda3/envs/vaa/lib/python3.12/site-packages (from html5lib>=1.1->yfinance) (1.16.0)\n",
      "Requirement already satisfied: webencodings in /Users/michelangelogasola/anaconda3/envs/vaa/lib/python3.12/site-packages (from html5lib>=1.1->yfinance) (0.5.1)\n",
      "Requirement already satisfied: python-dateutil>=2.8.2 in /Users/michelangelogasola/anaconda3/envs/vaa/lib/python3.12/site-packages (from pandas>=1.3.0->yfinance) (2.9.0)\n",
      "Requirement already satisfied: tzdata>=2022.7 in /Users/michelangelogasola/anaconda3/envs/vaa/lib/python3.12/site-packages (from pandas>=1.3.0->yfinance) (2024.1)\n",
      "Requirement already satisfied: charset-normalizer<4,>=2 in /Users/michelangelogasola/anaconda3/envs/vaa/lib/python3.12/site-packages (from requests>=2.31->yfinance) (3.3.2)\n",
      "Requirement already satisfied: idna<4,>=2.5 in /Users/michelangelogasola/anaconda3/envs/vaa/lib/python3.12/site-packages (from requests>=2.31->yfinance) (3.6)\n",
      "Requirement already satisfied: urllib3<3,>=1.21.1 in /Users/michelangelogasola/anaconda3/envs/vaa/lib/python3.12/site-packages (from requests>=2.31->yfinance) (2.2.1)\n",
      "Requirement already satisfied: certifi>=2017.4.17 in /Users/michelangelogasola/anaconda3/envs/vaa/lib/python3.12/site-packages (from requests>=2.31->yfinance) (2024.2.2)\n"
     ]
    },
    {
     "name": "stderr",
     "output_type": "stream",
     "text": [
      "[*********************100%%**********************]  1 of 1 completed"
     ]
    },
    {
     "name": "stdout",
     "output_type": "stream",
     "text": [
      "                   Open         High          Low        Close    Adj Close  \\\n",
      "Date                                                                          \n",
      "2010-01-04  1116.560059  1133.869995  1116.560059  1132.989990  1132.989990   \n",
      "2010-01-05  1132.660034  1136.630005  1129.660034  1136.520020  1136.520020   \n",
      "2010-01-06  1135.709961  1139.189941  1133.949951  1137.140015  1137.140015   \n",
      "2010-01-07  1136.270020  1142.459961  1131.319946  1141.689941  1141.689941   \n",
      "2010-01-08  1140.520020  1145.390015  1136.219971  1144.979980  1144.979980   \n",
      "...                 ...          ...          ...          ...          ...   \n",
      "2024-12-23  5940.250000  5978.250000  5902.569824  5974.069824  5974.069824   \n",
      "2024-12-24  5984.629883  6040.100098  5981.439941  6040.040039  6040.040039   \n",
      "2024-12-26  6024.970215  6049.750000  6007.370117  6037.589844  6037.589844   \n",
      "2024-12-27  6006.169922  6006.169922  5932.950195  5970.839844  5970.839844   \n",
      "2024-12-30  5920.669922  5940.790039  5869.160156  5906.939941  5906.939941   \n",
      "\n",
      "                Volume  \n",
      "Date                    \n",
      "2010-01-04  3991400000  \n",
      "2010-01-05  2491020000  \n",
      "2010-01-06  4972660000  \n",
      "2010-01-07  5270680000  \n",
      "2010-01-08  4389590000  \n",
      "...                ...  \n",
      "2024-12-23  3593280000  \n",
      "2024-12-24  1757720000  \n",
      "2024-12-26  2904530000  \n",
      "2024-12-27  3159610000  \n",
      "2024-12-30  3433250000  \n",
      "\n",
      "[3773 rows x 6 columns]\n"
     ]
    },
    {
     "name": "stderr",
     "output_type": "stream",
     "text": [
      "\n"
     ]
    }
   ],
   "source": [
    "# Install required libraries\n",
    "!pip install pandas\n",
    "!pip install plotly\n",
    "!pip install yfinance\n",
    "\n",
    "# Fetching data for the S&P 500\n",
    "import pandas as pd\n",
    "import yfinance as yf\n",
    "\n",
    "# Define the index symbol and time frame\n",
    "symbol = '^GSPC'  # S&P 500 index\n",
    "start_date = '2010-01-01'\n",
    "end_date = '2024-12-31'\n",
    "\n",
    "# Fetch S&P 500 data\n",
    "df = yf.download(symbol, start=start_date, end=end_date)\n",
    "\n",
    "# Check the data\n",
    "print(df)\n",
    "\n",
    "# Creating the candlestick chart\n",
    "import plotly.graph_objs as go\n",
    "import plotly.io as pio\n",
    "\n",
    "# Configure Plotly to render in the browser\n",
    "pio.renderers.default = 'browser'\n",
    "\n",
    "# Define the candlestick chart\n",
    "data = [go.Candlestick(\n",
    "    x=df.index,\n",
    "    open=df.Open,\n",
    "    high=df.High,\n",
    "    low=df.Low,\n",
    "    close=df.Close\n",
    ")]\n",
    "\n",
    "# Layout with range slider and selectors\n",
    "layout = go.Layout(\n",
    "    title='S&P 500 Candlestick with Range Slider and Selectors',\n",
    "    xaxis={\n",
    "        'rangeselector': {\n",
    "            'buttons': [\n",
    "                {'count': 7, 'label': '1w', 'step': 'day', 'stepmode': 'backward'},\n",
    "                {'count': 1, 'label': '1m', 'step': 'month', 'stepmode': 'backward'},\n",
    "                {'count': 3, 'label': '3m', 'step': 'month', 'stepmode': 'backward'},\n",
    "                {'count': 6, 'label': '6m', 'step': 'month', 'stepmode': 'backward'},\n",
    "                {'count': 1, 'label': '1y', 'step': 'year', 'stepmode': 'backward'},\n",
    "                {'step': 'all', 'label': 'All'}\n",
    "            ]\n",
    "        },\n",
    "        'rangeslider': {'visible': True}\n",
    "    }\n",
    ")\n",
    "\n",
    "# Create the figure\n",
    "fig = go.Figure(data=data, layout=layout)\n",
    "\n",
    "# Save the chart as an HTML file\n",
    "fig.write_html(\"sp500_candlestick.html\")\n",
    "\n",
    "# Render the chart in the browser\n",
    "fig.show()\n"
   ]
  },
  {
   "cell_type": "code",
   "execution_count": 17,
   "metadata": {},
   "outputs": [
    {
     "data": {
      "text/html": [
       "\n",
       "        <iframe\n",
       "            width=\"100%\"\n",
       "            height=\"600px\"\n",
       "            src=\"sp500_candlestick.html\"\n",
       "            frameborder=\"0\"\n",
       "            allowfullscreen\n",
       "            \n",
       "        ></iframe>\n",
       "        "
      ],
      "text/plain": [
       "<IPython.lib.display.IFrame at 0x1747b68d0>"
      ]
     },
     "execution_count": 17,
     "metadata": {},
     "output_type": "execute_result"
    }
   ],
   "source": [
    "from IPython.display import IFrame\n",
    "\n",
    "# Display the HTML file in an iframe\n",
    "IFrame(src=\"sp500_candlestick.html\", width=\"100%\", height=\"600px\")"
   ]
  }
 ],
 "metadata": {
  "kernelspec": {
   "display_name": "visual analytics",
   "language": "python",
   "name": "vaa"
  },
  "language_info": {
   "codemirror_mode": {
    "name": "ipython",
    "version": 3
   },
   "file_extension": ".py",
   "mimetype": "text/x-python",
   "name": "python",
   "nbconvert_exporter": "python",
   "pygments_lexer": "ipython3",
   "version": "3.12.2"
  }
 },
 "nbformat": 4,
 "nbformat_minor": 2
}
