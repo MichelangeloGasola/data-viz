{
 "cells": [
  {
   "cell_type": "code",
   "execution_count": 4,
   "metadata": {},
   "outputs": [
    {
     "name": "stdout",
     "output_type": "stream",
     "text": [
      "Requirement already satisfied: pandas in /Users/michelangelogasola/anaconda3/envs/vaa/lib/python3.12/site-packages (2.2.1)\n",
      "Requirement already satisfied: plotly in /Users/michelangelogasola/anaconda3/envs/vaa/lib/python3.12/site-packages (5.22.0)\n",
      "Requirement already satisfied: numpy<2,>=1.26.0 in /Users/michelangelogasola/anaconda3/envs/vaa/lib/python3.12/site-packages (from pandas) (1.26.4)\n",
      "Requirement already satisfied: python-dateutil>=2.8.2 in /Users/michelangelogasola/anaconda3/envs/vaa/lib/python3.12/site-packages (from pandas) (2.9.0)\n",
      "Requirement already satisfied: pytz>=2020.1 in /Users/michelangelogasola/anaconda3/envs/vaa/lib/python3.12/site-packages (from pandas) (2024.1)\n",
      "Requirement already satisfied: tzdata>=2022.7 in /Users/michelangelogasola/anaconda3/envs/vaa/lib/python3.12/site-packages (from pandas) (2024.1)\n",
      "Requirement already satisfied: tenacity>=6.2.0 in /Users/michelangelogasola/anaconda3/envs/vaa/lib/python3.12/site-packages (from plotly) (8.3.0)\n",
      "Requirement already satisfied: packaging in /Users/michelangelogasola/anaconda3/envs/vaa/lib/python3.12/site-packages (from plotly) (23.2)\n",
      "Requirement already satisfied: six>=1.5 in /Users/michelangelogasola/anaconda3/envs/vaa/lib/python3.12/site-packages (from python-dateutil>=2.8.2->pandas) (1.16.0)\n",
      "Note: you may need to restart the kernel to use updated packages.\n"
     ]
    }
   ],
   "source": [
    "pip install pandas plotly"
   ]
  },
  {
   "cell_type": "code",
   "execution_count": 5,
   "metadata": {},
   "outputs": [
    {
     "name": "stdout",
     "output_type": "stream",
     "text": [
      "Interactive map saved to /Users/michelangelogasola/Desktop/data-viz/choropleth_map.html.\n"
     ]
    }
   ],
   "source": [
    "import pandas as pd\n",
    "import plotly.express as px\n",
    "\n",
    "# I load the dataset\n",
    "file_path = '/Users/michelangelogasola/Desktop/estimated-cumulative-excess-deaths-per-100000-people-during-covid-19.csv'\n",
    "data = pd.read_csv(file_path)\n",
    "\n",
    "# I select relevant columns\n",
    "data_cleaned = data[['Entity', 'Day', 'Cumulative excess deaths per 100,000 people (central estimate)']]\n",
    "data_cleaned.columns = ['Country', 'Date', 'Excess_Deaths']\n",
    "\n",
    "# I drop rows with missing data\n",
    "data_cleaned = data_cleaned.dropna(subset=['Excess_Deaths'])\n",
    "\n",
    "# I format 'Date' column and aggregate to monthly\n",
    "data_cleaned['Date'] = pd.to_datetime(data_cleaned['Date'])\n",
    "data_cleaned['Month'] = data_cleaned['Date'].dt.to_period('M')  # Aggregate to monthly periods\n",
    "data_monthly = data_cleaned.groupby(['Country', 'Month'], as_index=False)['Excess_Deaths'].mean()\n",
    "\n",
    "# I convert 'Month' back to string for Plotly animation\n",
    "data_monthly['Month'] = data_monthly['Month'].dt.strftime('%Y-%m')\n",
    "\n",
    "# Color scheme\n",
    "final_color_scale = [\n",
    "    [0, \"rgb(240,249,255)\"],  # Light blue\n",
    "    [0.2, \"rgb(255,247,188)\"],  # Light yellow\n",
    "    [0.4, \"rgb(254,227,145)\"],  # Yellow\n",
    "    [0.6, \"rgb(254,196,79)\"],   # Dark yellow\n",
    "    [0.8, \"rgb(252,141,89)\"],   # Light red\n",
    "    [0.9, \"rgb(227,26,28)\"],    # Red\n",
    "    [1.0, \"rgb(153,0,13)\"]      # Dark red\n",
    "]\n",
    "\n",
    "# I create the choropleth map\n",
    "final_fig = px.choropleth(\n",
    "    data_monthly,\n",
    "    locations=\"Country\",\n",
    "    locationmode=\"country names\",\n",
    "    color=\"Excess_Deaths\",\n",
    "    hover_name=\"Country\",\n",
    "    animation_frame=\"Month\",\n",
    "    title=\"Covid Deaths per 100,000 People (Monthly)\",\n",
    "    color_continuous_scale=final_color_scale,\n",
    "    range_color=(0, 800)  # Fixed legend range\n",
    ")\n",
    "\n",
    "# I update layout for better appearance\n",
    "final_fig.update_layout(\n",
    "    geo=dict(\n",
    "        showframe=False,\n",
    "        showcoastlines=True,\n",
    "        projection_type=\"natural earth\"\n",
    "    ),\n",
    "    title=dict(\n",
    "        text=\"Covid Deaths per 100,000 People (Monthly)\",  # Title text\n",
    "        x=0.5,  # Center the title\n",
    "        xanchor='center',  # Horizontal anchor\n",
    "        yanchor='top'  # Vertical anchor\n",
    "    ),\n",
    "    margin={\"r\": 0, \"t\": 40, \"l\": 0, \"b\": 0}\n",
    ")\n",
    "\n",
    "# Save the figure as an HTML file\n",
    "output_path = '/Users/michelangelogasola/Desktop/data-viz/choropleth_map.html'  # Save in data-viz folder\n",
    "final_fig.write_html(output_path)\n",
    "\n",
    "\n",
    "print(f\"Interactive map saved to {output_path}.\")\n"
   ]
  },
  {
   "cell_type": "code",
   "execution_count": 6,
   "metadata": {},
   "outputs": [
    {
     "data": {
      "text/html": [
       "\n",
       "        <iframe\n",
       "            width=\"100%\"\n",
       "            height=\"600px\"\n",
       "            src=\"choropleth_map.html\"\n",
       "            frameborder=\"0\"\n",
       "            allowfullscreen\n",
       "            \n",
       "        ></iframe>\n",
       "        "
      ],
      "text/plain": [
       "<IPython.lib.display.IFrame at 0x1229fe060>"
      ]
     },
     "execution_count": 6,
     "metadata": {},
     "output_type": "execute_result"
    }
   ],
   "source": [
    "from IPython.display import IFrame\n",
    "\n",
    "# Display the HTML file in an iframe\n",
    "IFrame(src=\"choropleth_map.html\", width=\"100%\", height=\"600px\")\n"
   ]
  }
 ],
 "metadata": {
  "kernelspec": {
   "display_name": "visual analytics",
   "language": "python",
   "name": "vaa"
  },
  "language_info": {
   "codemirror_mode": {
    "name": "ipython",
    "version": 3
   },
   "file_extension": ".py",
   "mimetype": "text/x-python",
   "name": "python",
   "nbconvert_exporter": "python",
   "pygments_lexer": "ipython3",
   "version": "3.12.2"
  }
 },
 "nbformat": 4,
 "nbformat_minor": 2
}
